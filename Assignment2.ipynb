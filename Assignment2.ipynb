{
 "cells": [
  {
   "cell_type": "markdown",
   "metadata": {},
   "source": [
    "### Part 1\n",
    "\n",
    "Write a class called myLinkedList that implements the following sigly linkedlist interface:\n",
    "\n",
    "- add_first\n",
    "- add_last\n",
    "- remove_first\n",
    "- list_traversal\n"
   ]
  },
  {
   "cell_type": "markdown",
   "metadata": {},
   "source": [
    "### Define in your own works the term: stack ADT and queue ADT: List the key operation and support operations\n",
    "### For each ADT, give two real world data examples and explain them briefly \n",
    "\n",
    "Key operations performed by stack ADT:\n",
    "- push() – Insert an element at the top of stack \n",
    "- pop() – remove an element at the top of stack \n",
    " \n",
    "Support operations performed by stack ADT: \n",
    "- top() – peek at the top of element and return the result\n",
    "- size() – return the number of elements in a stack \n",
    "- isEmpty() – return true if the stack is empty, else return false\n"
   ]
  },
  {
   "cell_type": "code",
   "execution_count": 3,
   "metadata": {},
   "outputs": [],
   "source": [
    "#Node class \n",
    "class Node:\n",
    "    # to initialize the node object \n",
    "    def __init__(self,value):\n",
    "        self.value = value\n",
    "        self.next = None"
   ]
  },
  {
   "cell_type": "code",
   "execution_count": 4,
   "metadata": {},
   "outputs": [],
   "source": [
    "class myLinkedList:\n",
    "    #to initialize head and size\n",
    "    def __init__(self):\n",
    "        self.head = None\n",
    "        self.length = 0\n",
    "        \n",
    "    #to add an element at the first\n",
    "    def add_first(self,value):\n",
    "        if self.head == None:\n",
    "            self.head = Node(value)\n",
    "            return self.head\n",
    "        else: \n",
    "            #assign a new node with the new element\n",
    "            newNode = Node(value)\n",
    "            #assign the next of new node as head\n",
    "            newNode.next = self.head\n",
    "            self.head = newNode\n",
    "            self.length +=1\n",
    "        \n",
    "    #to add an element at the end    \n",
    "    def add_last(self,value):\n",
    "        #assign a new node with the new element\n",
    "        newNode = Node(value)\n",
    "         # if the linked list is empty then set new node as head  \n",
    "        if self.head == None:\n",
    "            self.head = Node(value)\n",
    "        else:\n",
    "            #else set current as head\n",
    "            current = self.head\n",
    "            #traverse through the linkedlist until the last one\n",
    "            while current.next is not None:\n",
    "                current = current.next\n",
    "            # set the next of last element as new node\n",
    "            current.next = newNode\n",
    "        self.length +=1\n",
    "        \n",
    "    #to remove a node at the front                   \n",
    "    def remove_first(self):\n",
    "        # point the head to next node of the head\n",
    "        self.head = self.head.next\n",
    "        self.length -=1\n",
    "        \n",
    "    #to print nodes of the linkedlist   \n",
    "    def list_traversal(self):\n",
    "        result = list()\n",
    "        #list out all the node\n",
    "        current = self.head\n",
    "        while current is not None:\n",
    "            result.append(current.value)\n",
    "            current = current.next\n",
    "        return result"
   ]
  },
  {
   "cell_type": "code",
   "execution_count": 5,
   "metadata": {},
   "outputs": [],
   "source": [
    "listOne = myLinkedList()"
   ]
  },
  {
   "cell_type": "code",
   "execution_count": 6,
   "metadata": {},
   "outputs": [
    {
     "data": {
      "text/plain": [
       "[40, 30, 15]"
      ]
     },
     "execution_count": 6,
     "metadata": {},
     "output_type": "execute_result"
    }
   ],
   "source": [
    "listOne.add_first(15)\n",
    "listOne.add_first(30)\n",
    "listOne.add_first(40)\n",
    "listOne.list_traversal()"
   ]
  },
  {
   "cell_type": "code",
   "execution_count": 7,
   "metadata": {},
   "outputs": [],
   "source": [
    "listOne.remove_first()\n",
    "# listOne.head.value"
   ]
  },
  {
   "cell_type": "code",
   "execution_count": 8,
   "metadata": {},
   "outputs": [
    {
     "data": {
      "text/plain": [
       "[30, 15]"
      ]
     },
     "execution_count": 8,
     "metadata": {},
     "output_type": "execute_result"
    }
   ],
   "source": [
    "listOne.list_traversal()"
   ]
  },
  {
   "cell_type": "code",
   "execution_count": 9,
   "metadata": {},
   "outputs": [
    {
     "data": {
      "text/plain": [
       "[8, 30, 15]"
      ]
     },
     "execution_count": 9,
     "metadata": {},
     "output_type": "execute_result"
    }
   ],
   "source": [
    "listOne.add_first(8)\n",
    "listOne.list_traversal()"
   ]
  },
  {
   "cell_type": "markdown",
   "metadata": {},
   "source": [
    "### Part 2:\n",
    "    Adopt the ADT concepts of Part 1 to provide a complete implementation of a stack ADT "
   ]
  },
  {
   "cell_type": "code",
   "execution_count": 10,
   "metadata": {},
   "outputs": [],
   "source": [
    "class stack:\n",
    "    # head is default None\n",
    "    def __init__(self):\n",
    "        self.head = None \n",
    "        self.bottom = None \n",
    "        self.length = 0 \n",
    "    def push(self,val):\n",
    "        node = Node(val)\n",
    "        if self.head == None:\n",
    "            self.head = node \n",
    "        else:\n",
    "            node.next = self.head\n",
    "            self.head = node\n",
    "        self.length+=1\n",
    "    def pop(self):\n",
    "        if self.head == None:\n",
    "            raise Exception(\"Nothing to pop\")\n",
    "        else:\n",
    "            self.head = self.head.next\n",
    "            self.length-=1\n",
    "    # Checks if stack is empty \n",
    "    def is_Empty(self):\n",
    "        return self.head == None\n",
    "    # Get the size of the stack\n",
    "    def size(self):\n",
    "        return self.length\n",
    "    #to print nodes of the linkedlist \n",
    "    def traverse_all_values(self):\n",
    "        result = list ()\n",
    "        if (self.head == None):\n",
    "            return\n",
    "        else:\n",
    "            while self.head:\n",
    "                result.append(self.head.value)\n",
    "                self.head = self.head.next\n",
    "            return result\n",
    "    # return the head node element if the stack is not empty\n",
    "    def top(self):\n",
    "        if self.is_Empty():\n",
    "            return None\n",
    "        else:\n",
    "            return self.head.value\n",
    "        \n",
    "    "
   ]
  },
  {
   "cell_type": "code",
   "execution_count": 11,
   "metadata": {},
   "outputs": [
    {
     "data": {
      "text/plain": [
       "5"
      ]
     },
     "execution_count": 11,
     "metadata": {},
     "output_type": "execute_result"
    }
   ],
   "source": [
    "stackOne = stack()\n",
    "stackOne.push(5)\n",
    "stackOne.top()"
   ]
  },
  {
   "cell_type": "code",
   "execution_count": 12,
   "metadata": {},
   "outputs": [
    {
     "name": "stdout",
     "output_type": "stream",
     "text": [
      "[5]\n"
     ]
    }
   ],
   "source": [
    "def run_func():\n",
    "    stackOne = stack()\n",
    "    stackOne.push(5)\n",
    "    stackOne.push(3)\n",
    "    stackOne.pop()\n",
    "    stackOne.push(2)\n",
    "    stackOne.push(8)\n",
    "    stackOne.pop()\n",
    "    stackOne.pop()\n",
    "    stackOne.push(9)\n",
    "    stackOne.push(1)\n",
    "    stackOne.pop()\n",
    "    stackOne.push(7)\n",
    "    stackOne.push(6)\n",
    "    stackOne.pop()\n",
    "    stackOne.pop()\n",
    "    stackOne.push(4)\n",
    "    stackOne.pop()\n",
    "    stackOne.pop()\n",
    "    return stackOne.traverse_all_values()\n",
    "\n",
    "print(run_func())"
   ]
  },
  {
   "cell_type": "markdown",
   "metadata": {},
   "source": [
    "- 3) Suppose an empty stack S has executed a total of 35 push operations, 15 top operations and 10 pop operations 3 of which raised Empty errors that were caught and ignored. What is the current size of S. \n",
    "\n"
   ]
  },
  {
   "cell_type": "code",
   "execution_count": 13,
   "metadata": {},
   "outputs": [
    {
     "name": "stdout",
     "output_type": "stream",
     "text": [
      "Empty errors\n",
      "Empty errors\n",
      "Empty errors\n"
     ]
    },
    {
     "data": {
      "text/plain": [
       "22"
      ]
     },
     "execution_count": 13,
     "metadata": {},
     "output_type": "execute_result"
    }
   ],
   "source": [
    "def get_size():\n",
    "    s = stack()\n",
    "    for i in range (1,36):\n",
    "        try:\n",
    "            if i <4:\n",
    "                s.push()\n",
    "            else:\n",
    "                s.push(i)\n",
    "        except:\n",
    "            print(\"Empty errors\")\n",
    "            pass \n",
    "    for i in range (1,16):\n",
    "        s.top()\n",
    "    for i in range (1,11):\n",
    "        s.pop()\n",
    "    return s.size()\n",
    "\n",
    "get_size()"
   ]
  },
  {
   "cell_type": "markdown",
   "metadata": {},
   "source": [
    "Current Size is 25. The function above ran through 35 push operations and 15 top operations and 10 pop operations. 3 of which raised Empty errors. As only push operation take a parameter, so 3 of 35 push operations will throw error. So that the size of length won't increase. \n",
    "- (35-3) = 32 push opertaions - 10 pop operations = 22 size \n",
    "\n",
    "- top operation does not increase the size of stack\n",
    "- empty error is caught and will not perform the operations so the size stack does not increase\n",
    "- pop operations will increase the size of stack"
   ]
  },
  {
   "cell_type": "code",
   "execution_count": 14,
   "metadata": {},
   "outputs": [],
   "source": [
    "class queue:\n",
    "    def __init__(self):\n",
    "        self.first = self.rear = None\n",
    "        self.length = 0\n",
    "    def enqueue(self,value):\n",
    "        node = Node(value)\n",
    "        if self.first == None:\n",
    "            self.first = node\n",
    "            self.rear = node\n",
    "            self.length +=1\n",
    "            return self.first.value\n",
    "        else:\n",
    "            self.rear.next = node\n",
    "            self.rear = node\n",
    "            self.length +=1\n",
    "            return self.first.next.value\n",
    "        \n",
    "        \n",
    "    def dequeue(self):\n",
    "        if self.is_Empty():\n",
    "            raise Exception(\"Nothing to dequeue\")\n",
    "        elif self.size() == 1:\n",
    "            self.length-=1\n",
    "            return self.first.value\n",
    "        else:\n",
    "            self.length-=1\n",
    "            self.first = self.first.next\n",
    "            return self.first\n",
    "        \n",
    "    def is_Empty(self):\n",
    "        return self.first == None\n",
    "    \n",
    "    def size(self):\n",
    "        return self.length\n",
    "    \n",
    "    def top(self):\n",
    "        if self.is_Empty():\n",
    "            return None\n",
    "        else:\n",
    "            return self.first.value"
   ]
  },
  {
   "cell_type": "code",
   "execution_count": 15,
   "metadata": {},
   "outputs": [
    {
     "name": "stdout",
     "output_type": "stream",
     "text": [
      "4\n"
     ]
    }
   ],
   "source": [
    "queueOne = queue()\n",
    "queueOne.enqueue(5)\n",
    "queueOne.enqueue(3)\n",
    "queueOne.dequeue()\n",
    "queueOne.enqueue(2)\n",
    "queueOne.enqueue(8)\n",
    "queueOne.dequeue()\n",
    "queueOne.dequeue()\n",
    "queueOne.enqueue(9)\n",
    "queueOne.enqueue(1)\n",
    "queueOne.dequeue()\n",
    "queueOne.enqueue(7)\n",
    "queueOne.enqueue(6)\n",
    "queueOne.dequeue()\n",
    "queueOne.dequeue()\n",
    "queueOne.enqueue(4)\n",
    "queueOne.dequeue()\n",
    "queueOne.dequeue()\n",
    "print(queueOne.dequeue())\n",
    "\n"
   ]
  },
  {
   "cell_type": "markdown",
   "metadata": {},
   "source": [
    "**Part III**\n",
    "- value:  4 are returned for the above sequence. "
   ]
  },
  {
   "cell_type": "code",
   "execution_count": 16,
   "metadata": {},
   "outputs": [
    {
     "name": "stdout",
     "output_type": "stream",
     "text": [
      "Empty errors\n",
      "Empty errors\n",
      "Empty errors\n",
      "Empty errors\n",
      "Empty errors\n",
      "30\n"
     ]
    }
   ],
   "source": [
    "def get_size():\n",
    "    queueTwo= queue()\n",
    "    for i in range (50):\n",
    "        try:\n",
    "            if i <5:\n",
    "                queueTwo.enqueue()\n",
    "            else:\n",
    "                queueTwo.enqueue(i)\n",
    "        except:\n",
    "            print(\"Empty errors\")\n",
    "            pass \n",
    "    for i in range (15):\n",
    "        queueTwo.top()\n",
    "    for i in range (15):\n",
    "        queueTwo.dequeue()\n",
    "\n",
    "    return queueTwo.size()\n",
    "print(get_size())"
   ]
  },
  {
   "cell_type": "markdown",
   "metadata": {},
   "source": [
    "Current size of Q is 35. \n",
    "\n",
    "Current Size is 35. The function above ran through 50 enqueue operations and 15 top operations and 15 dequeue operations. 5 of which raised Empty errors. As only enqueue operation take a parameter, so 5 of 50 push operations will throw error. So that the size of length won't increase. \n",
    "- (50-5) = 45 push opertaions - 15 pop operations = 30 size \n",
    "\n",
    "- top operation does not increase the size of stack\n",
    "- empty error is caught and will not perform the operations so the size stack does not increase\n",
    "- enqueue operations will increase the size of stack\n",
    "- dequeue operations will decrease the size of stack"
   ]
  }
 ],
 "metadata": {
  "kernelspec": {
   "display_name": "Python 3",
   "language": "python",
   "name": "python3"
  },
  "language_info": {
   "codemirror_mode": {
    "name": "ipython",
    "version": 3
   },
   "file_extension": ".py",
   "mimetype": "text/x-python",
   "name": "python",
   "nbconvert_exporter": "python",
   "pygments_lexer": "ipython3",
   "version": "3.7.6"
  }
 },
 "nbformat": 4,
 "nbformat_minor": 4
}
